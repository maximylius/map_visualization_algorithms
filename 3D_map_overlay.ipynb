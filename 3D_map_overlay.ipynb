{
 "cells": [
  {
   "cell_type": "markdown",
   "metadata": {},
   "source": [
    "# Notebook for map art\n",
    "### Ideas:\n",
    "- make proper 3D map \n",
    "    - with persepective (develop based on shadow projection alogrithm)\n",
    "    - with light \n",
    "        - based on orientation or \n",
    "        - with realistic light including shadows\n",
    "    - use glass like optic\n",
    "- use shadow projection to give the map itself some thickness or use the overlay\n",
    "    - how to deal with form intersection the edge? maybe do something like a waterfall (plot hull in color, and after some depth stop this, so that lines keep falling down (actually reverse as plot from bottom to top))\n",
    "- transform all polygons as if they would fall down (select most downwards point and turn polygon around it)"
   ]
  },
  {
   "cell_type": "markdown",
   "metadata": {},
   "source": [
    "### 3D map by overlaying layers and permuting each time.\n",
    "- has perspective but parallel, like beeing infinitely far away and having zoomed in "
   ]
  },
  {
   "cell_type": "code",
   "execution_count": null,
   "metadata": {},
   "outputs": [],
   "source": [
    "# some map art\n",
    "\n",
    "from shapely.affinity import translate\n",
    "from shapely.ops import unary_union\n",
    "import matplotlib.pyplot as plt\n",
    "\n",
    "sf = [\"Prenzlauer Berg\"]#[\"Pankow\", \"Prenzlauer Berg\", \"Mitte\"]\n",
    "spb = buildings[buildings[\"zone\"].isin(sm.zones.index[sm.zones[\"nam\"].isin(sf)])]\n",
    "bspb = unary_union(list(spb.geometry.apply(lambda g: g.buffer(0.002))))\n",
    "bspb = Polygon(bspb.exterior.coords)\n",
    "\n",
    "fig, ax = plt.subplots(figsize = (16,16))\n",
    "\n",
    "maxHeight = max(spb[\"ew_ha_2020\"])\n",
    "\n",
    "nSteps = 50\n",
    "cbuff = 40\n",
    "cmap = plt.get_cmap('Reds_r', nSteps + cbuff)\n",
    "\n",
    "for i in range(0,nSteps):\n",
    "    # spb[\"geometry\"] = spb.apply(lambda row : translate(row[\"geometry\"], 1,8) if (row[\"ew_ha_2020\"] >= i/nSteps*maxHeight) else None, axis = 1)\n",
    "    spb[\"geometry\"] = spb.apply(lambda row : translate(row[\"geometry\"], 0.00001,0.00008) if (row[\"ew_ha_2020\"] >= i/nSteps*maxHeight) else None, axis = 1)\n",
    "    spb.plot(ax=ax, color = cmap(round(i + 0.5*cbuff)), edgecolor = cmap(round(i + 0.5*cbuff)), linewidth = 2)\n",
    "    # spb.plot(ax=ax, column='ew_ha_2020', cmap = \"viridis\", linewidth = 2)\n",
    "    \n",
    "\n",
    "\n"
   ]
  },
  {
   "cell_type": "markdown",
   "metadata": {},
   "source": [
    "### Segement Line to plot line in color gradiant\n",
    "- smoothness could improved by overlay and opacity < 1\n",
    "- could be used to indicate trajectory/ path. \n",
    "  "
   ]
  },
  {
   "cell_type": "code",
   "execution_count": null,
   "metadata": {},
   "outputs": [],
   "source": [
    "from shapely.geometry import LineString, Point\n",
    "# helper function to divide a line into segments from start to end point\n",
    "def segmentLine(l=LineString([(0,0),(1,1)]), i=0, nSteps=10):\n",
    "    startPoint = Point(\n",
    "        i/nSteps*l.coords[0][0] + (1-(i/nSteps)) * l.coords[-1][0],\n",
    "        i/nSteps*l.coords[0][1] + (1-(i/nSteps)) * l.coords[-1][1]\n",
    "    )\n",
    "    i += 1\n",
    "    endPoint = Point(\n",
    "        i/nSteps*l.coords[0][0] + (1-(i/nSteps)) * l.coords[-1][0],\n",
    "        i/nSteps*l.coords[0][1] + (1-(i/nSteps)) * l.coords[-1][1]\n",
    "    )\n",
    "    return LineString([startPoint, endPoint])\n"
   ]
  },
  {
   "cell_type": "code",
   "execution_count": null,
   "metadata": {},
   "outputs": [],
   "source": [
    "# show zones and popCentroids and their offsets from real geometrical centroids\n",
    "fig, ax = plt.subplots(1, 1, figsize=(16,16))\n",
    "buildings.plot(ax=ax, column='ew_ha_2020', cmap = \"Reds\")\n",
    "# add zone borders and a bit of opacity\n",
    "sm.zones.geometry.plot(ax=ax, color = \"#ffffff33\", edgecolor=\"#999999\")\n",
    "nSteps = 20\n",
    "cbuff = 10\n",
    "cmap = plt.get_cmap('Greens_r', nSteps + cbuff)\n",
    "gpd.GeoSeries(sm.zones.geometry.centroid, crs=sm.epsg).plot(ax=ax, color = cmap(nSteps), markersize = 20)\n",
    "for i in range(1,nSteps):\n",
    "    l = [helpers.segmentLine(x, i, nSteps) for x in sm.zones.popCentroidOffset]\n",
    "    gpd.GeoSeries(l, crs=sm.epsg).plot(ax=ax,color=cmap(i), linewidth=3)\n",
    "gpd.GeoSeries(sm.zones.popCentroid, crs=sm.epsg).plot(ax=ax, color = cmap(0), markersize = 20)\n",
    "ax.set_title(\"Zones centroids vs population weigthed centroids\")"
   ]
  },
  {
   "cell_type": "code",
   "execution_count": null,
   "metadata": {},
   "outputs": [],
   "source": []
  }
 ],
 "metadata": {
  "language_info": {
   "name": "python"
  },
  "orig_nbformat": 4
 },
 "nbformat": 4,
 "nbformat_minor": 2
}
